{
 "cells": [
  {
   "cell_type": "code",
   "execution_count": null,
   "metadata": {},
   "outputs": [
    {
     "name": "stdout",
     "output_type": "stream",
     "text": [
      "Collecting bcrypt\n",
      "  Downloading bcrypt-4.3.0-cp39-abi3-win_amd64.whl.metadata (10 kB)\n",
      "Downloading bcrypt-4.3.0-cp39-abi3-win_amd64.whl (152 kB)\n",
      "   ---------------------------------------- 0.0/152.8 kB ? eta -:--:--\n",
      "   -- ------------------------------------- 10.2/152.8 kB ? eta -:--:--\n",
      "   ---------- ---------------------------- 41.0/152.8 kB 653.6 kB/s eta 0:00:01\n",
      "   ---------------------------------------- 152.8/152.8 kB 1.3 MB/s eta 0:00:00\n",
      "Installing collected packages: bcrypt\n",
      "Successfully installed bcrypt-4.3.0\n",
      "Note: you may need to restart the kernel to use updated packages.\n"
     ]
    },
    {
     "name": "stderr",
     "output_type": "stream",
     "text": [
      "\n",
      "[notice] A new release of pip is available: 24.0 -> 25.0.1\n",
      "[notice] To update, run: C:\\Users\\cgrub\\AppData\\Local\\Microsoft\\WindowsApps\\PythonSoftwareFoundation.Python.3.11_qbz5n2kfra8p0\\python.exe -m pip install --upgrade pip\n"
     ]
    }
   ],
   "source": [
    "import bcrypt\n",
    "\n",
    "class ecomerce:\n",
    "    \n",
    "    def login(self, username, password):\n",
    "        # check if the user is in the database\n",
    "        # if the user is in the database, check if the password is correct\n",
    "        # if the password is correct, return True\n",
    "        # if the password is incorrect, return False\n",
    "        # if the user is not in the database, return False\n",
    "        return False"
   ]
  }
 ],
 "metadata": {
  "kernelspec": {
   "display_name": "Python 3",
   "language": "python",
   "name": "python3"
  },
  "language_info": {
   "codemirror_mode": {
    "name": "ipython",
    "version": 3
   },
   "file_extension": ".py",
   "mimetype": "text/x-python",
   "name": "python",
   "nbconvert_exporter": "python",
   "pygments_lexer": "ipython3",
   "version": "3.11.9"
  }
 },
 "nbformat": 4,
 "nbformat_minor": 2
}
